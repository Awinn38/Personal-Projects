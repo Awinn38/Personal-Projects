{
 "cells": [
  {
   "cell_type": "code",
   "execution_count": 62,
   "source": [
    "fitness_schaffer1(x) = (sum(abs2, x), sum(abs2, x .- 2.0))\r\n",
    "res = bboptimize(fitness_schaffer1; Method=:borg_moea,\r\n",
    "            FitnessScheme=ParetoFitnessScheme{2}(is_minimizing=true),\r\n",
    "            SearchRange=(-10.0, 10.0), NumDimensions=3, ϵ=0.05,\r\n",
    "            MaxSteps=50000, TraceInterval=1.0, TraceMode=:compact);\r\n",
    "            # bf = best_fitness(res)"
   ],
   "outputs": [
    {
     "output_type": "stream",
     "name": "stdout",
     "text": [
      "Starting optimization with optimizer BlackBoxOptim.BorgMOEA{EpsBoxDominanceFitnessScheme{2, Float64, true, typeof(sum)}, BlackBoxOptim.ProblemEvaluator{Tuple{Float64, Float64}, IndexedTupleFitness{2, Float64}, EpsBoxArchive{2, Float64, EpsBoxDominanceFitnessScheme{2, Float64, true, typeof(sum)}}, FunctionBasedProblem{typeof(fitness_schaffer1), ParetoFitnessScheme{2, Float64, true, typeof(sum)}, ContinuousRectSearchSpace, Nothing}}, FitPopulation{IndexedTupleFitness{2, Float64}}, FixedGeneticOperatorsMixture, RandomBound{ContinuousRectSearchSpace}}\n",
      "0.00 secs, 0 evals, 0 steps\n",
      "pop.size=50 arch.size=0 n.restarts=0\n",
      "\n",
      "Optimization stopped after 16870 steps and 0.47 seconds\n",
      "Termination reason: No epsilon-progress for more than 10000 iterations\n",
      "Steps per second = 36201.71\n",
      "Function evals per second = 46658.79\n",
      "Improvements/step = 0.00000\n",
      "Total function evaluations = 21743\n",
      "\n",
      "\n",
      "Best candidate found: [1.00479, 1.00217, 1.00514]\n",
      "\n",
      "Fitness: (3.02424, 2.97587) agg=6.00011\n",
      "\n"
     ]
    }
   ],
   "metadata": {}
  }
 ],
 "metadata": {
  "orig_nbformat": 4,
  "language_info": {
   "file_extension": ".jl",
   "name": "julia",
   "mimetype": "application/julia",
   "version": "1.6.2"
  },
  "kernelspec": {
   "name": "julia-nteract-1.6",
   "display_name": "Julia nteract 1.6.2",
   "language": "julia"
  }
 },
 "nbformat": 4,
 "nbformat_minor": 2
}