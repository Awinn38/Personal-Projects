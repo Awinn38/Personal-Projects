{
 "cells": [
  {
   "cell_type": "markdown",
   "metadata": {},
   "source": [
    "# Problem 1"
   ]
  },
  {
   "cell_type": "markdown",
   "metadata": {},
   "source": [
    "#### Part A"
   ]
  },
  {
   "cell_type": "markdown",
   "metadata": {},
   "source": [
    "Taking the of scale up factor \n",
    "\\\n",
    "Di: Impeller diameter\n",
    "\\\n",
    "Do: Tank diameter\n",
    "$$\\alpha^{3}=\\frac{V_{2}}{V_{1}}=100 $$\n",
    "$$\\alpha = 4.64$$\n",
    "With this we know \n",
    "$$4.64=\\frac{D_{o2}}{D_{o1}}=\\frac{H_{2}}{H_{1}}=\\frac{D_{i2}}{D_{i1}}$$"
   ]
  },
  {
   "cell_type": "markdown",
   "metadata": {},
   "source": [
    "$$V_{1}=5x10^{3}$$\n",
    "$$D_{o1}= 0.147m$$\n",
    "$$D_{i1}= 0.049m$$\n",
    "$$H_{1}= 0.294m$$"
   ]
  },
  {
   "cell_type": "markdown",
   "metadata": {},
   "source": [
    "$$K_{L}a = a(\\frac{P}{V})^{0.4}*V_{s}^{0.5}*N^{0.5} = a(N^{3}D_{i}^{2})^{0.4}*V_{s}^{0.5}*N^{0.5}$$"
   ]
  },
  {
   "cell_type": "markdown",
   "metadata": {},
   "source": [
    "Since Kla1 is proportional to Kla2 and:\n",
    "$$N_{1}^{1.7}D_{i1}^{0.8} = N_{2}^{1.7}D_{i2}^{0.8}$$\n",
    "$$D_{i2} = \\alpha D_{i1} = 0.227,$$\n",
    "$$\\frac{N_{2}}{N_{1}}^{1.7} = \\frac{D_{i1}}{D_{i2}}^{0.8}$$\n",
    "$$\\frac{N_{2}}{100}^{1.7} = \\frac{1}{4.64}^{0.8}$$\n",
    "$$N_{2}= 49 rpm$$"
   ]
  },
  {
   "cell_type": "markdown",
   "metadata": {},
   "source": [
    "#### Part B"
   ]
  },
  {
   "cell_type": "markdown",
   "metadata": {},
   "source": [
    "$$D_{o2}= \\alpha D_{o1} = 0.682m$$\n",
    "$$H_{2}= \\alpha H_{1} = 1.36m$$\n",
    "$$\\frac{P}{V}= aN^{3}D_{i}^{2}$$\n",
    "when P/V1 = P/V2:\n",
    "$$aN_{1}^{3}D_{i1}^{2}=aN_{2}^{3}D_{i2}^{2}$$\n",
    "$$D_{i2}= 0.227$$\n",
    "$$H2 = 1.36m$$\n",
    "$$D_{o2}=0.682m$$\n",
    "$$N_{2}= N_{1}(\\frac{D_{i1}}{D_{i2}})^{\\frac{2}{3}}$$\n",
    "$$N_{2}=100*\\frac{1}{4.64}^{\\frac{2}{3}}$$\n",
    "$$N_{2}= 36 \\frac{rev}{min}$$"
   ]
  },
  {
   "cell_type": "markdown",
   "metadata": {},
   "source": [
    "#### Part C"
   ]
  },
  {
   "cell_type": "markdown",
   "metadata": {},
   "source": [
    "$$N_{i1}D_{i1}=N_{i2}D_{i2}$$\n",
    "$$N_{i2} = 100\\frac{100}{4.64}$$\n",
    "$$N_{i2}= 22 \\frac{rev}{min}$$"
   ]
  },
  {
   "cell_type": "markdown",
   "metadata": {},
   "source": [
    "#### Part D"
   ]
  },
  {
   "cell_type": "markdown",
   "metadata": {},
   "source": [
    "$$t_{m}\\propto 2.67*D_{o}^{2}\\frac{H}{D_{i}^{3}}$$\n",
    "$$N_{2}= N_{1}(\\frac{D_{o2}}{D_{o1}})^{2}(\\frac{H_{2}}{H_{1}})(\\frac{D_{i1}}{D_{i2}})^{3}$$\n",
    "$$N_{2} = 100*(4.64)^{2}(4.64)(\\frac{1}{4.64})^{3}$$\n",
    "$$N_{2}= 100\\frac{rev}{min}$$"
   ]
  },
  {
   "cell_type": "markdown",
   "metadata": {},
   "source": [
    "# Problem 2"
   ]
  },
  {
   "cell_type": "markdown",
   "metadata": {},
   "source": [
    "#### Part A"
   ]
  },
  {
   "cell_type": "markdown",
   "metadata": {},
   "source": [
    "At the peak elution the time will be half of tmax at 30 cm/h\n",
    "$$\\sigma\\propto \\sqrt{v}$$"
   ]
  },
  {
   "cell_type": "markdown",
   "metadata": {},
   "source": [
    "$$\\sigma t_{max,A}= \\sqrt{\\frac{60}{30}}*\\frac{25}{50}*12min$$\n",
    "$$\\sigma t_{max,B}= \\sqrt{\\frac{60}{30}}*\\frac{50}{100}*18min$$\n",
    "$$\\sigma t_{max,A} = 8.5min$$\n",
    "$$\\sigma t_{max,B} = 12.8min$$"
   ]
  },
  {
   "cell_type": "markdown",
   "metadata": {},
   "source": [
    "#### Part B/C"
   ]
  },
  {
   "cell_type": "markdown",
   "metadata": {},
   "source": [
    "![Chromatography Column](./Chromatography_Column.PNG)"
   ]
  },
  {
   "cell_type": "markdown",
   "metadata": {},
   "source": [
    "Here we take our resolution equation for the plot and apply the standard deviation to the tw to see how the resolution shall change \n",
    "$$R_{s}= \\frac{t_{max,j}-t_{max,i}}{\\frac{1}{2}*(\\sigma t_{w,i}+\\sigma t_{w,j})}$$\n",
    "$$R_{s}= \\frac{50-25}{\\frac{1}{2}*(34+51.2)}$$\n",
    "$$R_{s}= 0.587$$\n",
    "We see that the resolution will decerase based on our Rs equation where the (sigma)t value is in the denominator with an throughput increase so this is not reccomended."
   ]
  },
  {
   "cell_type": "markdown",
   "metadata": {},
   "source": [
    "# Problem 3"
   ]
  },
  {
   "cell_type": "markdown",
   "metadata": {},
   "source": [
    "$$D_{b}= 10cm$$\n",
    "$$Z= 200cm$$\n",
    "$${q}_S= 2\\frac{g}{g*h}$$\n",
    "$$X_{o}= 45\\frac{g}{l}$$\n",
    "$$F= 5\\frac{l}{h}$$\n",
    "$$S_{o}= 160\\frac{g}{l}$$"
   ]
  },
  {
   "cell_type": "markdown",
   "metadata": {},
   "source": [
    "We wish to see a change in substrate concentration relative to the change in column height. We need the substrate concentration at length Z\n",
    "$$-FdS = qS*A*X_{o}(1-0.005z)dz$$"
   ]
  },
  {
   "cell_type": "markdown",
   "metadata": {},
   "source": [
    "$$-5\\int_{160}^{S}dS = 2*\\left(\\frac{\\pi}{4}10^{2}\\right)*45*(200-0.0025*200^2)$$\n",
    "$$S = 18.6\\frac{g}{l}$$"
   ]
  },
  {
   "cell_type": "markdown",
   "metadata": {},
   "source": [
    "$$Y_{p}{s}=0.48\\frac{g}{g}$$\n",
    "$$P = 0.48\\frac{g}{g} * (160-18.6)$$\n",
    "$$Ethanol\\ productivity = 67.9\\frac{g}{l}$$"
   ]
  },
  {
   "cell_type": "markdown",
   "metadata": {},
   "source": [
    "Solving for the effluent concentration\n",
    "$$V= \\frac{\\pi}{4}D_{b}^{2}*Z$$\n",
    "$$V = 15.7L$$\n",
    "$$D = \\frac{5}{15.7} = 0.318h^{-1}$$\n",
    "$$DP = 21.6 \\frac{h}{l*h}$$"
   ]
  },
  {
   "cell_type": "markdown",
   "metadata": {},
   "source": [
    "# Problem 4"
   ]
  },
  {
   "cell_type": "markdown",
   "metadata": {},
   "source": [
    "#### Part A"
   ]
  },
  {
   "cell_type": "markdown",
   "metadata": {},
   "source": [
    "I believe that the idea of STEM should remain as it is currently with the arts and STEM remaining separate. As someone with a great appreciation for the art where the arts are what inspired me to become an engineer. It may be a dated perspective from my experience in the arts, it has served a purpose of allowing people to be able to understand and express who we are and our humanity. It is a exploration of the self and contemporary times that are ever chaning and subjective to the lives of the individuals of which the art comes from which allows a even greater understanding of what it is like and will be like to be human.\n",
    "\n",
    "In respect to STEM my understanding has been that these serve more as tools for humanity to use to understand how the world works. while there is a probably is an epistemological debate to be had on how we decide what is worth focusing on in STEM and how this may be shaped and influenced by the arts that we experience I feel that these tools that we are taught in STEM shoudld be intentionally separated from the contemporary beliefs and ideals that the arts often live under. \n",
    "\n",
    "The arts is an exploratory subject as well as STEM; however it can be observed that not all knowledge for the sake of knowledge is good and pushing what is known is not always in the best interest of the society that may seek out this knowledge and end up making unethical decisions."
   ]
  },
  {
   "cell_type": "markdown",
   "metadata": {},
   "source": [
    "#### Part B"
   ]
  },
  {
   "cell_type": "markdown",
   "metadata": {},
   "source": [
    "My Video(\"The Past We Can Never Return To – The Anthropocene Reviewed\"): https://www.youtube.com/watch?v=YbgnlkJPga4"
   ]
  },
  {
   "cell_type": "markdown",
   "metadata": {},
   "source": [
    "The video I have chosen is an educational video channel that uses art to explore exciting possibilities in STEM. This video in particular focuses on how a museum was built around a cave that contained cave art from 17,000 years ago and the efforts that were made to preserve the cave. I feel this youtube channel and video subject complement the use of STEM principle and discoveries while inspiring a respect and appreciation for not just the art in the video but how art has been important to us long before STEM. "
   ]
  }
 ],
 "metadata": {
  "kernelspec": {
   "display_name": "Julia nteract 1.6.2",
   "language": "julia",
   "name": "julia-nteract-1.6"
  },
  "language_info": {
   "name": "julia"
  },
  "orig_nbformat": 4
 },
 "nbformat": 4,
 "nbformat_minor": 2
}
