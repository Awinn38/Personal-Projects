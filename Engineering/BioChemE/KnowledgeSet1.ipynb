{
 "cells": [
  {
   "cell_type": "code",
   "execution_count": 1,
   "metadata": {},
   "outputs": [
    {
     "data": {
      "image/png": "[encoded data removed]",
      "text/plain": [
       "<Figure size 432x288 with 1 Axes>"
      ]
     },
     "metadata": {
      "needs_background": "light"
     },
     "output_type": "display_data"
    },
    {
     "name": "stdout",
     "output_type": "stream",
     "text": [
      "The x-intercept is: 0.02\n",
      "The slope is:  0.05\n",
      "The value of Vm is: 49.939 mmol/L*s\n",
      "The value of Km is: 2.495 mmol/L\n",
      "The surface concentration at steady state is: 0.0003 mmol/cm2\n",
      "The value of Da is: 9.988 > 1 this process is diffusion limiting\n",
      "0.0024950000000000003\n",
      "0.12484750000000001\n"
     ]
    }
   ],
   "source": [
    "import numpy as np\n",
    "from sympy.solvers import solve\n",
    "from sympy import Symbol\n",
    "import matplotlib.pyplot as plt\n",
    "from sklearn.linear_model import LinearRegression\n",
    "\n",
    "# x-axis\n",
    "s0 = np.array([(1/0.25),(1/0.5),(1/2.5),(1/5),(1/10),(1/15)]).reshape(-1,1)\n",
    "\n",
    "# y-axis\n",
    "V = np.array([(1/4.55),(1/8.33),(1/25),(1/33.33),(1/40),(1/42.86)])\n",
    "\n",
    "### Fitting data \n",
    "model = LinearRegression().fit(s0,V)\n",
    "Vmodel = []\n",
    "\n",
    "for substrateConc in s0:\n",
    "    modelEqnSoln = model.coef_*substrateConc + model.intercept_\n",
    "    Vmodel.append(modelEqnSoln)\n",
    "np.array(Vmodel)\n",
    "###\n",
    "\n",
    "### Plotting and regressing using \"Lineweaver-Burk plot\" based\n",
    "plt.plot(s0,V,'o', label = \"Velocity Data\")\n",
    "plt.plot(s0,Vmodel, label = \"Velocity model\")\n",
    "plt.legend()\n",
    "plt.xlabel('1/S(mmol/l)')\n",
    "plt.ylabel('1/(mmol/l*s)')\n",
    "plt.show()\n",
    "###\n",
    "\n",
    "# Two solutions possible selecting positive value: Vm = 1/[x-intercept] , km = [slope]*(1/[x-intercept])   \n",
    "### Printing results\n",
    "print('The x-intercept is:',round(model.intercept_,3))\n",
    "print('The slope is: ',round(model.coef_[0],3))\n",
    "print('The value of Vm is:',round(1/model.intercept_,3),'mmol/L*s')\n",
    "print('The value of Km is:',(round(model.coef_[0]*1/model.intercept_,3)),'mmol/L')\n",
    "###\n",
    "\n",
    "### Variables and converting Km/Vm: (mmol/L)*10^-3 => mmol/cm3 , E0: (g/L) = (mg/cm3)\n",
    "Ss = Symbol('Ss'); Kl = 0.5; Sb = 25*10**-3; El = 5; E0 = 2; \n",
    "Km = round(model.coef_[0]*1/model.intercept_,3)*10**-3\n",
    "Vm = round(1/model.intercept_,3)*10**-3\n",
    "###\n",
    "\n",
    "# Calculating Vm'(mmol/cm2*s)\n",
    "VmPrime = ((Vm/E0)*El)\n",
    "\n",
    "# Solving for surface concentration(mmol/cm2)\n",
    "Surface_Conc = solve(Kl*(Sb -Ss) -\n",
    "                     (VmPrime*Ss)/(Km+Ss))\n",
    "\n",
    "# Calculating Da\n",
    "Da = VmPrime/((Kl)*(Sb))\n",
    "\n",
    "print('The surface concentration at steady state is:',round(Surface_Conc[1],4),'mmol/cm2')\n",
    "print('The value of Da is:',round(Da,3),'> 1 this process is diffusion limiting')\n",
    "print(Km)\n",
    "print(VmPrime)"
   ]
  }
 ],
 "metadata": {
  "interpreter": {
   "hash": "c4e6d9786dc1ab3736f85b775378532d8fe18afb1540be17e5c41974a5249fde"
  },
  "kernelspec": {
   "display_name": "Python 3.8.8 64-bit ('base': conda)",
   "name": "python3"
  },
  "language_info": {
   "codemirror_mode": {
    "name": "ipython",
    "version": 3
   },
   "file_extension": ".py",
   "mimetype": "text/x-python",
   "name": "python",
   "nbconvert_exporter": "python",
   "pygments_lexer": "ipython3",
   "version": "3.8.8"
  },
  "orig_nbformat": 4
 },
 "nbformat": 4,
 "nbformat_minor": 2
}
