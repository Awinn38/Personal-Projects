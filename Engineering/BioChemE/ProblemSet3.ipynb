{
 "cells": [
  {
   "cell_type": "code",
   "execution_count": 1,
   "metadata": {},
   "outputs": [],
   "source": [
    "using SpecialFunctions"
   ]
  },
  {
   "cell_type": "markdown",
   "metadata": {},
   "source": [
    "# Problem 1"
   ]
  },
  {
   "cell_type": "markdown",
   "metadata": {},
   "source": [
    "tmax = 100 min\\\n",
    "σtmax = 14 min\\\n",
    "90% Collection\n",
    " $$YΔ = 0.90 = \\frac{1}{2}[1 + erf(\\frac{t-100}{\\sqrt{2}*14})]$$\n",
    "                            t = 118 minutes for collection of 90%"
   ]
  },
  {
   "cell_type": "markdown",
   "metadata": {},
   "source": [
    "Taylor Dispersion:\n",
    "$$σ^{2}∝\\frac{vd^{2}}{Dl}$$\n",
    "v = velocity; d = diameter; D = diffusion coeff; l = length"
   ]
  },
  {
   "cell_type": "code",
   "execution_count": 2,
   "metadata": {},
   "outputs": [
    {
     "name": "stdout",
     "output_type": "stream",
     "text": [
      "σ1: 1.0\n",
      "σ2: 1.0\n",
      "Here we can identify that both peaks will be equal based on their σ values"
     ]
    }
   ],
   "source": [
    "# Assuming d and D are constant\n",
    "V1 = 40\n",
    "l1 = 40\n",
    "V2 = 60\n",
    "l2 = 60\n",
    "σ1 = ((V1)/l1)^(1/2)\n",
    "σ2 = ((V2)/l2)^(1/2)\n",
    "println(\"σ1: \",σ1)\n",
    "println(\"σ2: \",σ2)\n",
    "print(\"Here we can identify that both peaks will be equal based on their σ values\")"
   ]
  },
  {
   "cell_type": "markdown",
   "metadata": {},
   "source": [
    "# Problem 2"
   ]
  },
  {
   "cell_type": "markdown",
   "metadata": {},
   "source": [
    "We shall neglect cake resistance and cell size distribution"
   ]
  },
  {
   "cell_type": "markdown",
   "metadata": {},
   "source": [
    "$$\\frac{recovery1}{recovery2} = \\frac{rpm1^{2}}{rpm2^{2}}$$\n",
    "recovery1 = 60%\n",
    "recovery2 = 95%\\\n",
    "rpm1 = 4000"
   ]
  },
  {
   "cell_type": "code",
   "execution_count": 3,
   "metadata": {},
   "outputs": [
    {
     "name": "stdout",
     "output_type": "stream",
     "text": [
      "The rotational speed at condition 2 is: 5033.222956847167 RPM\n"
     ]
    }
   ],
   "source": [
    "rpm2 = sqrt(95/60*(4000^2))\n",
    "println(\"The rotational speed at condition 2 is: \", rpm2,\" RPM\")\n"
   ]
  },
  {
   "cell_type": "markdown",
   "metadata": {},
   "source": [
    "$$Flow1 = 12 \\frac{L}{min}$$\n",
    "recovery1 = 60%\n",
    "recovery2 = 95%"
   ]
  },
  {
   "cell_type": "code",
   "execution_count": 4,
   "metadata": {},
   "outputs": [
    {
     "name": "stdout",
     "output_type": "stream",
     "text": [
      "The flow rate for condition 2 shall be: 7.578947368421052 L/min\n"
     ]
    }
   ],
   "source": [
    "flow2 = .60*12/0.95\n",
    "println(\"The flow rate for condition 2 shall be: \",flow2,\" L/min\")"
   ]
  }
 ],
 "metadata": {
  "interpreter": {
   "hash": "c4e6d9786dc1ab3736f85b775378532d8fe18afb1540be17e5c41974a5249fde"
  },
  "kernelspec": {
   "display_name": "Julia nteract 1.6.2",
   "language": "julia",
   "name": "julia-nteract-1.6"
  },
  "language_info": {
   "file_extension": ".jl",
   "mimetype": "application/julia",
   "name": "julia",
   "version": "3.8.8"
  },
  "orig_nbformat": 4
 },
 "nbformat": 4,
 "nbformat_minor": 2
}
