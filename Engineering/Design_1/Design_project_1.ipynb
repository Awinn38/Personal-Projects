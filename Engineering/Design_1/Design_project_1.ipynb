{
 "cells": [],
 "metadata": {
  "kernelspec": {
   "display_name": "Julia nteract 1.6.2",
   "language": "julia",
   "name": "julia-nteract-1.6"
  },
  "language_info": {
   "file_extension": ".jl",
   "mimetype": "application/julia",
   "name": "julia",
   "version": "1.6.2"
  },
  "orig_nbformat": 4
 },
 "nbformat": 4,
 "nbformat_minor": 2
}
