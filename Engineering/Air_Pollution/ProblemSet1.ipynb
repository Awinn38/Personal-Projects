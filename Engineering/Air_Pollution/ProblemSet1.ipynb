{
 "cells": [
  {
   "cell_type": "code",
   "execution_count": 9,
   "source": [
    "### Problem 1 ###\r\n",
    "#=\r\n",
    "   A primary pollutant is an air pollutant emitted directly\r\n",
    "        from a source pollutant source\r\n",
    "\r\n",
    "    A secondary pollutant is an air pollutant generated from\r\n",
    "    primary pollutants interacting with the atmosphere\r\n",
    "=#"
   ],
   "outputs": [],
   "metadata": {}
  },
  {
   "cell_type": "code",
   "execution_count": 5,
   "source": [
    "using LaTeXStrings\r\n",
    "### Problem 2 ###\r\n",
    "#= \r\n",
    "As of 2019 the NAAQS for sulfur dioxide (SO2) is 75 ppbv =#\r\n",
    "x = 3\r\n",
    "L\" 2.55e{-6} \\ \\ \\frac{mol}{m^3} \"\r\n"
   ],
   "outputs": [
    {
     "output_type": "execute_result",
     "data": {
      "text/latex": [
       "$ 2.55e{-6} \\ \\ \\frac{mol}{m^3} $"
      ],
      "text/plain": [
       "L\"$ 2.55e{-6} \\ \\ \\frac{mol}{m^3} $\""
      ]
     },
     "metadata": {},
     "execution_count": 5
    }
   ],
   "metadata": {}
  }
 ],
 "metadata": {
  "orig_nbformat": 4,
  "language_info": {
   "file_extension": ".jl",
   "name": "julia",
   "mimetype": "application/julia",
   "version": "1.6.2"
  },
  "kernelspec": {
   "name": "julia-nteract-1.6",
   "display_name": "Julia nteract 1.6.2",
   "language": "julia"
  },
  "interpreter": {
   "hash": "36c23f7bc8a7dd95f546e1e35b698db4caef3874ac31593c685af800c6632347"
  }
 },
 "nbformat": 4,
 "nbformat_minor": 2
}