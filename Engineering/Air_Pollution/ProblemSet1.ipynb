{
 "cells": [
  {
   "cell_type": "code",
   "execution_count": 9,
   "source": [
    "### Problem 1 ###\r\n",
    "#=\r\n",
    "   A primary pollutant is an air pollutant emitted directly\r\n",
    "        from a source pollutant source\r\n",
    "\r\n",
    "    A secondary pollutant is an air pollutant generated from\r\n",
    "    primary pollutants interacting with the atmosphere\r\n",
    "=#"
   ],
   "outputs": [],
   "metadata": {}
  },
  {
   "cell_type": "code",
   "execution_count": 1,
   "source": [
    "### Problem 2 ###\r\n",
    "#= \r\n",
    "- As of 2019 the NAAQS for sulfur dioxide (SO2) is 75 ppbv\r\n",
    "\r\n",
    "- With a concentration of 400 μg/m^3 of SO2 we can determine \r\n",
    "    if this is an safe concentration by NAAQS standards\r\n",
    "\r\n",
    "    - 400 μg/m^3 * [1 mol(SO2) * 6.06e-7 grams] = 6.60e-6 mol/m^3 (SO2)\r\n",
    "\r\n",
    "- We shall use PV = nRT to determine moles of air at [1atm 298K]\r\n",
    "\r\n",
    "    - PV = nRT; (1 atm) * (1,000 L) = n * (0.0821 atm*L/mol*K) * (298K)\r\n",
    "        n = 40.87 mol air\r\n",
    "    \r\n",
    "    - (6.60e-6 mol SO2) / (46.87 mol air) = 1.161e-7 \r\n",
    "        (1.161e-7) * (1e9) = 161.5 ppbv SO2 \r\n",
    "\r\n",
    "- This value of 161.5 ppbv exceeds the NAAQS 75 ppbv that is reccomended \r\n",
    " =#\r\n",
    "\r\n"
   ],
   "outputs": [],
   "metadata": {}
  },
  {
   "cell_type": "code",
   "execution_count": null,
   "source": [
    "### Problem 3 ###\r\n",
    "#= \r\n",
    "- The Ozone standards of Boulder Colorado are 0.076 ppmv as of Oct.1 2015\r\n",
    "\r\n",
    "- We can determine the concentration of 0.076 ppmv in μg/m^3   \r\n",
    "\r\n",
    "    - 400 μg/m^3 * [1 mol(SO2) * 6.06e-7 grams] = 6.60e-6 mol/m^3 (SO2)\r\n",
    "\r\n",
    "- We shall use PV = nRT to determine moles of air at [1atm 298K]\r\n",
    "\r\n",
    "    - PV = nRT; (1 atm) * (1,000 L) = n * (0.0821 atm*L/mol*K) * (298K)\r\n",
    "        n = 40.87 mol air\r\n",
    "    \r\n",
    "    - (6.60e-6 mol SO2) / (46.87 mol air) = 1.161e-7 \r\n",
    "        (1.161e-7) * (1e9) = 161.5 ppbv SO2 \r\n",
    "\r\n",
    "- This value of 161.5 ppbv exceeds the NAAQS 75 ppbv that is reccomended fod SO2\r\n",
    " =#"
   ],
   "outputs": [],
   "metadata": {}
  }
 ],
 "metadata": {
  "orig_nbformat": 4,
  "language_info": {
   "file_extension": ".jl",
   "name": "julia",
   "mimetype": "application/julia",
   "version": "1.6.2"
  },
  "kernelspec": {
   "name": "julia-nteract-1.6",
   "display_name": "Julia nteract 1.6.2",
   "language": "julia"
  },
  "interpreter": {
   "hash": "36c23f7bc8a7dd95f546e1e35b698db4caef3874ac31593c685af800c6632347"
  }
 },
 "nbformat": 4,
 "nbformat_minor": 2
}