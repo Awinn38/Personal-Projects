{
 "cells": [
  {
   "cell_type": "code",
   "execution_count": 2,
   "source": [
    "### Problem 1 ###\r\n",
    "\r\n",
    "using NLsolve, ModelingToolkit\r\n",
    "\r\n",
    "# @variables Eqn1 Eqn2 ii\r\n",
    "\r\n",
    "function nonLinRoots(F, x)\r\n",
    "    F[1] = 2 * x[1] * x[2] - 2x[1]^2 + 4sin(x[2]) + 4\r\n",
    "    F[2] = 3x[1]^2 - 2 * x[1] * x[2]^2 + 5cos(x[1]) + 4\r\n",
    "end\r\n",
    "\r\n",
    "ii = -5.0\r\n",
    "Eqn1 = 1\r\n",
    "Eqn2 = 1\r\n",
    "Opt1 = Eqn1^2\r\n",
    "Opt2 = Eqn2^2\r\n",
    "while  1e-6 < abs(Eqn1) || 1e-6 < abs(Eqn2)\r\n",
    "    Eqn1 = 2*nlsolve(nonLinRoots,[ii;ii]).zero[1] * nlsolve(nonLinRoots,[ii;ii]).zero[2] - \r\n",
    "    2*nlsolve(nonLinRoots,[ii;ii]).zero[1]^2 + \r\n",
    "    4*sin(nlsolve(nonLinRoots,[ii;ii]).zero[2]) + \r\n",
    "    4     \r\n",
    "\r\n",
    "    Eqn2 =  3*nlsolve(nonLinRoots,[ii;ii]).zero[1]^2 - \r\n",
    "    2*nlsolve(nonLinRoots,[ii;ii]).zero[1] * nlsolve(nonLinRoots,[ii;ii]).zero[2]^2 + \r\n",
    "    5*cos(nlsolve(nonLinRoots,[ii;ii]).zero[1]) + \r\n",
    "    4\r\n",
    "\r\n",
    "    ii += 1\r\n",
    "\r\n",
    "    if  ii == 5\r\n",
    "        print(\"Hit 5 \\n\")\r\n",
    "        break\r\n",
    "    end\r\n",
    "    x = nlsolve(nonLinRoots,[ii;ii]).zero[1]\r\n",
    "    y = nlsolve(nonLinRoots,[ii;ii]).zero[2]\r\n",
    "end\r\n",
    "print(\"x0/y0: \",ii,\"\\n\")\r\n",
    "print(\"Equation 1 Solution: \",Eqn1,'\\n')\r\n",
    "print(\"Equation 2 Solution: \",Eqn2,\"\\n\")\r\n",
    "print(\"x: \",x, \"\\n\")\r\n",
    "print(\"y: \",y, \"\\n\")\r\n"
   ],
   "outputs": [
    {
     "output_type": "stream",
     "name": "stdout",
     "text": [
      "x0/y0: -4.0\n",
      "Equation 1 Solution: -2.2186350534525445e-9\n",
      "Equation 2 Solution: -7.4239672187559336e-9\n",
      "x: 0.5002054899374974\n",
      "y: -3.022297590041017\n"
     ]
    }
   ],
   "metadata": {}
  },
  {
   "cell_type": "code",
   "execution_count": 1,
   "source": [
    "### Problem 1 ###\r\n",
    "\r\n",
    "using NLsolve, ModelingToolkit\r\n",
    "@variables x y \r\n",
    "function nonLinRoots(F, x)\r\n",
    "    F[1] = 2 * x[1] * x[2] - 2x[1]^2 + 4sin(x[2]) + 4\r\n",
    "    F[2] = 3x[1]^2 - 2 * x[1] * x[2]^2 + 5cos(x[1]) + 4\r\n",
    "end\r\n",
    "\r\n",
    "ii = -4.0\r\n",
    "Eqn1 = 1\r\n",
    "Eqn2 = 1\r\n",
    "Opt1 = Eqn1^2\r\n",
    "Opt2 = Eqn2^2\r\n",
    "while  1e-6 < abs(Eqn1) || 1e-6 < abs(Eqn2)\r\n",
    "    Eqn1 = 2*nlsolve(nonLinRoots,[ii;ii]).zero[1] * nlsolve(nonLinRoots,[ii;ii]).zero[2] - \r\n",
    "    2*nlsolve(nonLinRoots,[ii;ii]).zero[1]^2 + \r\n",
    "    4*sin(nlsolve(nonLinRoots,[ii;ii]).zero[2]) + \r\n",
    "    4     \r\n",
    "\r\n",
    "    Eqn2 =  3*nlsolve(nonLinRoots,[ii;ii]).zero[1]^2 - \r\n",
    "    2*nlsolve(nonLinRoots,[ii;ii]).zero[1] * nlsolve(nonLinRoots,[ii;ii]).zero[2]^2 + \r\n",
    "    5*cos(nlsolve(nonLinRoots,[ii;ii]).zero[1]) + \r\n",
    "    4\r\n",
    "\r\n",
    "    ii += 1\r\n",
    "\r\n",
    "    if  ii == 5\r\n",
    "        print(\"Hit 5 \\n\")\r\n",
    "        break\r\n",
    "    end\r\n",
    "    x = nlsolve(nonLinRoots,[ii;ii]).zero[1]\r\n",
    "    y = nlsolve(nonLinRoots,[ii;ii]).zero[2]\r\n",
    "end\r\n",
    "print(\"x0/y0: \",ii,\"\\n\")\r\n",
    "print(\"Equation 1 Solution: \",Eqn1,'\\n')\r\n",
    "print(\"Equation 2 Solution: \",Eqn2,\"\\n\")\r\n",
    "print(\"x: \",x, \"\\n\")\r\n",
    "print(\"y: \",y, \"\\n\")"
   ],
   "outputs": [
    {
     "output_type": "stream",
     "name": "stdout",
     "text": [
      "x0/y0: -3.0\n",
      "Equation 1 Solution: -2.7705482352757826e-10\n",
      "Equation 2 Solution: -1.4552083982266595e-9\n",
      "x: 0.5002054899375336\n",
      "y: -3.0222975900238254\n"
     ]
    }
   ],
   "metadata": {}
  },
  {
   "cell_type": "code",
   "execution_count": 1,
   "source": [
    "### Problem 2 ###\r\n",
    "\r\n",
    "using ModelingToolkit, Optim, LaTeXStrings\r\n",
    "# @variables x Phi Opt\r\n",
    "@parameters d a1 a2 disOne disTwo\r\n",
    "\r\n",
    "feedOne = parse(Float64, readline())\r\n",
    "print(\"Feed One Mole Frac: \",feedOne ,\" \\n\")\r\n",
    "\r\n",
    "feedTwo = parse(Float64, readline())\r\n",
    "print(\"Feed Two Mole Frac: \",feedTwo,\" \\n\")\r\n",
    "\r\n",
    "flowRate = parse(Float64, readline())\r\n",
    "print(\"Feed Flow Rate: \", flowRate,\" \\n\")\r\n",
    "\r\n",
    "params = Dict(a1 => 4.9, a2 => 3.6, d => 28, disOne => .9, disTwo => .07)\r\n",
    "\r\n",
    "roots(x) = (params[a1] * flowRate * feedOne) / (params[a1] - x) + (params[a2] * flowRate * feedTwo) / (params[a2] - x)\r\n",
    "ii = 0\r\n",
    "Opt = 1\r\n",
    "Phi = 1\r\n",
    "minimmumVelocity = (params[a1] * params[d] * params[disOne]) / (params[a1] - Phi) + (params[a2] * params[d] * params[disTwo]) / (params[a2] - Phi);\r\n",
    "\r\n",
    "while 1e-4 < abs(Opt) || 0 > minimmumVelocity\r\n",
    "    Opt = optimize(roots, ii, ii+1).minimum\r\n",
    "    Phi = optimize(roots, ii, ii+1).minimizer\r\n",
    "    minimmumVelocity = (params[a1] * params[d] * params[disOne]) / (params[a1] - Phi) + (params[a2] * params[d] * params[disTwo]) / (params[a2] - Phi);\r\n",
    "    ii -= 1\r\n",
    "end \r\n",
    "\r\n",
    "print(\"The Minimmum Velocity is: \", minimmumVelocity, \" moles per second\")\r\n",
    "print(\"\\n The Value of Phi is: \",Phi, \"\\n\")\r\n",
    "print(\"The Evaluated Phi Equation Equals: \",Opt, \"\\n\")\r\n"
   ],
   "outputs": [
    {
     "output_type": "stream",
     "name": "stdout",
     "text": [
      "Feed One Mole Frac: 0.25 \n",
      "Feed Two Mole Frac: 0.25 \n",
      "Feed Flow Rate: 100.0 \n",
      "The Minimmum Velocity is: 6.142868350781213e-5 moles per second\n",
      " The Value of Phi is: -2.12499594427191e6\n",
      "The Evaluated Phi Equation Equals: 9.999998617960283e-5\n"
     ]
    }
   ],
   "metadata": {}
  }
 ],
 "metadata": {
  "orig_nbformat": 4,
  "language_info": {
   "file_extension": ".jl",
   "name": "julia",
   "mimetype": "application/julia",
   "version": "1.6.2"
  },
  "kernelspec": {
   "name": "julia-nteract-1.6",
   "display_name": "Julia nteract 1.6.2",
   "language": "julia"
  },
  "interpreter": {
   "hash": "36c23f7bc8a7dd95f546e1e35b698db4caef3874ac31593c685af800c6632347"
  }
 },
 "nbformat": 4,
 "nbformat_minor": 2
}