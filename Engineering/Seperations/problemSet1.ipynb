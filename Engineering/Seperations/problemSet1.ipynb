{
 "cells": [
  {
   "cell_type": "code",
   "execution_count": 64,
   "source": [
    "# Problem 1\r\n",
    "using NLsolve\r\n",
    "\r\n",
    "function nonLinRoots(F, x)\r\n",
    "    F[1] = 2 * x[1] * x[2] - 2x[1]^2 + 4sin(x[2]) + 4\r\n",
    "    F[2] = 3x[1]^2 - 2 * x[1] * x[2]^2 + 5cos(x[1]) + 4\r\n",
    "end\r\n",
    "nlsolve(nonLinRoots,[3.0;3.0]).zero"
   ],
   "outputs": [
    {
     "output_type": "execute_result",
     "data": {
      "text/plain": [
       "2-element Vector{Float64}:\n",
       " 3.2920590223664115\n",
       " 2.189700479207947"
      ]
     },
     "metadata": {},
     "execution_count": 64
    }
   ],
   "metadata": {}
  },
  {
   "cell_type": "code",
   "execution_count": 65,
   "source": [
    "# Problem 1\r\n",
    "using NLsolve\r\n",
    "\r\n",
    "function nonLinRoots(F, x)\r\n",
    "    F[1] = 2 * x[1] * x[2] - 2x[1]^2 + 4sin(x[2]) + 4\r\n",
    "    F[2] = 3x[1]^2 - 2 * x[1] * x[2]^2 + 5cos(x[1]) + 4\r\n",
    "end\r\n",
    "nlsolve(nonLinRoots,[-5.0;5.0]).zero"
   ],
   "outputs": [
    {
     "output_type": "execute_result",
     "data": {
      "text/plain": [
       "2-element Vector{Float64}:\n",
       " 0.1889321376335295\n",
       " 4.7927862820128375"
      ]
     },
     "metadata": {},
     "execution_count": 65
    }
   ],
   "metadata": {}
  },
  {
   "cell_type": "code",
   "execution_count": 2,
   "source": [
    "# Problem 2\r\n",
    "using ModelingToolkit, Optim\r\n",
    "\r\n",
    "@variables x \r\n",
    "@parameters d a1 a2 disOne disTwo\r\n",
    "\r\n",
    "feedOne = parse(Float64, readline())\r\n",
    "print(\"Feed One Mole Frac: \",feedOne ,\" \\n\")\r\n",
    "\r\n",
    "feedTwo = parse(Float64, readline())\r\n",
    "print(\"Feed Two Mole Frac: \",feedTwo,\" \\n\")\r\n",
    "\r\n",
    "flowRate = parse(Float64, readline())\r\n",
    "print(\"Feed Flow Rate: \", flowRate,\" \\n\")\r\n",
    "\r\n",
    "params = Dict(a1 => 4.9, a2 => 3.6, d => 28, disOne => .9, disTwo => .07)\r\n",
    "\r\n",
    "roots(x) = (params[a1] * flowRate * feedOne) / (params[a1] - x) + (params[a2] * flowRate * feedTwo) / (params[a2] - x)\r\n",
    "\r\n",
    "Phi = optimize(roots, 4, 5).minimum\r\n",
    "\r\n",
    "\r\n",
    "minimmumVelocity = (params[a1] * params[d] * params[disOne]) / (params[a1] - Phi) + (params[a2] * params[d] * params[disTwo]) / (params[a2] - Phi);\r\n",
    "print(\"The Minimmum Velocity is: \", minimmumVelocity, \" Moles per Second\")\r\n",
    "\r\n"
   ],
   "outputs": [
    {
     "output_type": "stream",
     "name": "stdout",
     "text": [
      "Feed One Mole Frac: 0.25 \n",
      "Feed Two Mole Frac: 0.25 \n",
      "Feed Flow Rate: 100.0 \n",
      "The Minimmum Velocity is: 1.392864966093866 Moles per Second"
     ]
    }
   ],
   "metadata": {}
  }
 ],
 "metadata": {
  "orig_nbformat": 4,
  "language_info": {
   "file_extension": ".jl",
   "name": "julia",
   "mimetype": "application/julia",
   "version": "1.6.2"
  },
  "kernelspec": {
   "name": "julia-nteract-1.6",
   "display_name": "Julia nteract 1.6.2",
   "language": "julia"
  },
  "interpreter": {
   "hash": "36c23f7bc8a7dd95f546e1e35b698db4caef3874ac31593c685af800c6632347"
  }
 },
 "nbformat": 4,
 "nbformat_minor": 2
}