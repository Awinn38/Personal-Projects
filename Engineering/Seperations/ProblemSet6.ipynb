{
 "cells": [
  {
   "cell_type": "markdown",
   "metadata": {},
   "source": [
    "# Problem 1"
   ]
  },
  {
   "cell_type": "markdown",
   "metadata": {},
   "source": [
    "<ins>Given:</ins>\n",
    "$$N = 4$$  \n",
    "$$\\frac{L}{V}=1.2$$\n",
    "$$Y_{N+1}=0.01$$ \n",
    "$$Y_{1}=0.0027$$\n",
    "$$X_{o}=0$$\n",
    "Using kremser equation to solve for \"m\"\n"
   ]
  },
  {
   "cell_type": "markdown",
   "metadata": {},
   "source": [
    "$$\\frac{y_{1}-y_{1}^{*}}{y_{\\tiny N+1}-y_{1}^{*}}=\\frac{1-\\frac{L}{mV}}{1-(\\frac{L}{mV})^{{\\tiny N+1}}}$$"
   ]
  },
  {
   "cell_type": "code",
   "execution_count": 87,
   "metadata": {},
   "outputs": [
    {
     "name": "stdout",
     "output_type": "stream",
     "text": [
      "The value of \"m\" is: 1.413\n"
     ]
    }
   ],
   "source": [
    "using PyCall\n",
    "\n",
    "py\"\"\"\n",
    "import numpy as np\n",
    "from sympy.solvers import solve\n",
    "from sympy import Symbol\n",
    "# L_V = L/V\n",
    "N = 4; L_V = 1.2; Yn_1 = 0.01; Y_1 = 0.0027; x_o = 0; y_out = 0\n",
    "m = Symbol('m')\n",
    "\n",
    "kremserEqn = (Y_1 - y_out)/(Yn_1 - y_out)-(1-(L_V/m))/(1-(L_V/m)**(4+1))\n",
    "Soln = solve(kremserEqn,m)\n",
    "print('The value of \"m\" is:',round(Soln[1],3))\n",
    "\"\"\""
   ]
  },
  {
   "cell_type": "markdown",
   "metadata": {},
   "source": [
    "# Problem 2"
   ]
  },
  {
   "cell_type": "code",
   "execution_count": 88,
   "metadata": {},
   "outputs": [
    {
     "name": "stdout",
     "output_type": "stream",
     "text": [
      "The value of k for n-butane is: 0.19733023368786368\n"
     ]
    }
   ],
   "source": [
    "# De-Priester Chart Calculation n-butane @ 518R; 145 kPa\n",
    "a1 = -1280557\n",
    "\n",
    "a2 = 0\n",
    "\n",
    "a6 = 7.94986\n",
    "\n",
    "ap1 = -0.96455\n",
    "\n",
    "ap2 = 0\n",
    "\n",
    "ap3 = 0\n",
    "\n",
    "p = 145\n",
    "\n",
    "T = 518\n",
    "\n",
    "Kln = (a1)/((T)^2) + (a2)/T + a6 + (ap1)*log(p) + ap2/((p)^2) + (ap3)/(p)\n",
    "\n",
    "k = exp(Kln)\n",
    "\n",
    "println(\"The value of k for n-butane is: \",k)\n"
   ]
  },
  {
   "cell_type": "markdown",
   "metadata": {},
   "source": [
    "Using $$k = \\frac{y_{i}}{x_{i}}$$"
   ]
  },
  {
   "cell_type": "code",
   "execution_count": 89,
   "metadata": {},
   "outputs": [
    {
     "name": "stdout",
     "output_type": "stream",
     "text": [
      "The exiting mole fraction of n-butane is: 0.0020270588673842994\n"
     ]
    }
   ],
   "source": [
    "y = 0.0004\n",
    "x =  y/k\n",
    "println(\"The exiting mole fraction of n-butane is: \",x)"
   ]
  },
  {
   "cell_type": "markdown",
   "metadata": {},
   "source": [
    "Using kremser equation\n",
    "$$\\frac{y_{1}-y_{1}^{*}}{y_{\\tiny N+1}-y_{1}^{*}}=\\frac{1-\\frac{L}{kV}}{1-(\\frac{L}{kV})^{{\\tiny N+1}}}$$"
   ]
  },
  {
   "cell_type": "code",
   "execution_count": 90,
   "metadata": {},
   "outputs": [
    {
     "name": "stdout",
     "output_type": "stream",
     "text": [
      "The value of \"N\" is: 1.71694386409250 We shall need 2 stages\n"
     ]
    }
   ],
   "source": [
    "using PyCall\n",
    "\n",
    "py\"\"\"\n",
    "import numpy as np\n",
    "from sympy.solvers import solve\n",
    "from sympy import Symbol\n",
    "\n",
    "L = 75; V = 150; k = 0.19733023368786368\n",
    "L_V = L/V; Yn_1 = 0.003; Y_1 = 0.0004; x_o = 0; y_out = 0\n",
    "N = Symbol('N')\n",
    "\n",
    "kremserEqn = (Y_1 - y_out)/(Yn_1 - y_out)-(1-(L_V/k))/(1-(L_V/k)**(N+1))\n",
    "Soln = solve(kremserEqn,N)\n",
    "print('The value of \"N\" is:',Soln[0],\"We shall need 2 stages\")\n",
    "\"\"\""
   ]
  },
  {
   "cell_type": "markdown",
   "metadata": {},
   "source": [
    "# Problem 3"
   ]
  },
  {
   "cell_type": "markdown",
   "metadata": {},
   "source": [
    "-   Total Pressure: 0.6 atm\n",
    "-   98% removal of H2S\n",
    "-   Temperature: 27 &deg;C\n",
    "-   Solubility: 0.002"
   ]
  },
  {
   "cell_type": "markdown",
   "metadata": {},
   "source": [
    "![KSB Graph](./Solubility_Graph.PNG)"
   ]
  },
  {
   "cell_type": "code",
   "execution_count": 91,
   "metadata": {},
   "outputs": [
    {
     "name": "stdout",
     "output_type": "stream",
     "text": [
      "The value of k is: 833.3333333333334"
     ]
    }
   ],
   "source": [
    "P = 0.6; S = 0.002; k = (P*S)^-1\n",
    "print(\"The value of k is: \",k)"
   ]
  },
  {
   "cell_type": "markdown",
   "metadata": {},
   "source": [
    "Using kremser equation\n",
    "$$\\frac{y_{1}-y_{1}^{*}}{y_{\\tiny N+1}-y_{1}^{*}}=\\frac{1-\\frac{L}{kV}}{1-(\\frac{L}{kV})^{{\\tiny N+1}}}$$"
   ]
  },
  {
   "cell_type": "code",
   "execution_count": 92,
   "metadata": {},
   "outputs": [
    {
     "name": "stdout",
     "output_type": "stream",
     "text": [
      "The mol of air over water is: 0.000366785345992015\n"
     ]
    }
   ],
   "source": [
    "using PyCall\n",
    "\n",
    "py\"\"\"\n",
    "import numpy as np\n",
    "from sympy.solvers import solve\n",
    "from sympy import Symbol\n",
    "\n",
    "N = 3; k = 833.3; Yn_1 = 0.1; Y_1 = 0.002; x_o = 0; y_out = 0\n",
    "x = Symbol('x')\n",
    "\n",
    "kremserEqn = (Y_1 - y_out)/(Yn_1 - y_out)-(1-(x/k))/(1-(x/k)**(N+1))\n",
    "Soln = solve(kremserEqn,x)\n",
    "print('The mol of air over water is:',1/Soln[0])\n",
    "\"\"\""
   ]
  },
  {
   "cell_type": "markdown",
   "metadata": {},
   "source": [
    "# Problem 4"
   ]
  },
  {
   "cell_type": "markdown",
   "metadata": {},
   "source": [
    "$$x_{in} = 0.0008$$\n",
    "$$x_{in}^{*} = 0.000024$$\n",
    "$$x_{out} = 0.0001$$\n",
    "$$K_{D} = 13.2$$\n",
    "$$\\frac{K_{D}V}{L} = 1.5$$\n",
    "$$\\frac{V}{L} = 0.11$$\n",
    "$$\\frac{x_{out}-x_{out}^{*}}{x_{in}-x_{out}^{*}}=\\frac{1-\\frac{K_{D}V}{L}}{1-(\\frac{K_{D}V}{L})^{{\\tiny N+1}}}$$"
   ]
  },
  {
   "cell_type": "code",
   "execution_count": 93,
   "metadata": {},
   "outputs": [
    {
     "name": "stdout",
     "output_type": "stream",
     "text": [
      "We have a y-axis value of: 0.0979381443298969"
     ]
    }
   ],
   "source": [
    "xIn = 0.0008; xIn_star =  0.000024; xOut =0.0001; Kd = 13.2; V_L = 0.11\n",
    "y_axis = (xOut - xIn_star)/(xIn - xIn_star)\n",
    "print(\"We have a y-axis value of: \",y_axis)"
   ]
  },
  {
   "cell_type": "markdown",
   "metadata": {},
   "source": [
    "**Using the KSB graph we shall need about four stages from the x-axis**"
   ]
  },
  {
   "cell_type": "markdown",
   "metadata": {},
   "source": [
    "![KSB Graph](./KSB_Graph.PNG)"
   ]
  }
 ],
 "metadata": {
  "kernelspec": {
   "display_name": "Julia nteract 1.6.2",
   "language": "julia",
   "name": "julia-nteract-1.6"
  },
  "language_info": {
   "file_extension": ".jl",
   "mimetype": "application/julia",
   "name": "julia",
   "version": "1.6.2"
  },
  "orig_nbformat": 4
 },
 "nbformat": 4,
 "nbformat_minor": 2
}
