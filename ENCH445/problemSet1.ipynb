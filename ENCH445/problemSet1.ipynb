{
 "cells": [
  {
   "cell_type": "code",
   "execution_count": 147,
   "source": [
    "# Problem 1\r\n",
    "from scipy import optimize\r\n",
    "import numpy as np\r\n",
    "\r\n",
    "\r\n",
    "def nonLinRoots(x):\r\n",
    "    return [2*x[0]*x[1] - 2*x[0]**2 + 4*np.sin(x[1]) + 4, 3*x[0]**2 - 2*x[0]*x[1]**2 + 5*np.cos(x[0]) + 4]\r\n",
    "\r\n",
    "\r\n",
    "sol = optimize.root(nonLinRoots, [0, 0])\r\n",
    "print('xSol,ySol:',sol.x)\r\n"
   ],
   "outputs": [
    {
     "output_type": "stream",
     "name": "stdout",
     "text": [
      "xSol,ySol: [ 5.34372241e-01 -3.20681484e-09]\n"
     ]
    }
   ],
   "metadata": {}
  },
  {
   "cell_type": "code",
   "execution_count": 149,
   "source": [
    "# Problem 1\r\n",
    "from scipy import optimize\r\n",
    "import numpy as np\r\n",
    "\r\n",
    "\r\n",
    "def nonLinRoots(x):\r\n",
    "    return [2*x[0]*x[1] - 2*x[0]**2 + 4*np.sin(x[1]) + 4, 3*x[0]**2 - 2*x[0]*x[1]**2 + 5*np.cos(x[0]) + 4]\r\n",
    "\r\n",
    "sol = optimize.root(nonLinRoots, [-5, 5])\r\n",
    "print('xSol,ySol:',sol.x)\r\n"
   ],
   "outputs": [
    {
     "output_type": "stream",
     "name": "stdout",
     "text": [
      "xSol,ySol: [ 0.50020549 -3.02229759]\n"
     ]
    }
   ],
   "metadata": {}
  },
  {
   "cell_type": "code",
   "execution_count": 152,
   "source": [
    "# Problem 2\r\n",
    "from scipy import optimize\r\n",
    "import numpy as np\r\n",
    "import matplotlib.pyplot as plt\r\n",
    "from sympy import *\r\n",
    "\r\n",
    "d = 28\r\n",
    "a1 = 4.9\r\n",
    "a2 = 3.6\r\n",
    "feedOne = float(input('Feed one mol frac'))\r\n",
    "feedTwo = float(input('Feed two mol frac'))\r\n",
    "flowRate = float(input('Feed flow rate'))\r\n",
    "disOne = .9\r\n",
    "disTwo = .07\r\n",
    "\r\n",
    "def Roots(x):\r\n",
    "    return (a1*flowRate * feedOne)/(a1 - x) + (a2*flowRate * feedTwo)/(a2 - x)\r\n",
    "Phi = optimize.root(Roots,4)\r\n",
    "print('The Phi Value is:',Phi.x)\r\n",
    "\r\n",
    "minimmumVelocity = (a1*d * disOne)/(a1 - Phi.x) + (a2*d * disTwo)/(a2 - Phi.x)\r\n",
    "print('The Minimmum Velocity is:',minimmumVelocity,'Moles per Second')"
   ],
   "outputs": [
    {
     "output_type": "stream",
     "name": "stdout",
     "text": [
      "The Phi Value is: [4.15058824]\n",
      "The Minimmum Velocity is: [151.95384615] Moles per Second\n"
     ]
    }
   ],
   "metadata": {}
  }
 ],
 "metadata": {
  "orig_nbformat": 4,
  "language_info": {
   "name": "python",
   "version": "3.8.8",
   "mimetype": "text/x-python",
   "codemirror_mode": {
    "name": "ipython",
    "version": 3
   },
   "pygments_lexer": "ipython3",
   "nbconvert_exporter": "python",
   "file_extension": ".py"
  },
  "kernelspec": {
   "name": "python3",
   "display_name": "Python 3.8.8 64-bit ('julia': conda)"
  },
  "interpreter": {
   "hash": "36c23f7bc8a7dd95f546e1e35b698db4caef3874ac31593c685af800c6632347"
  }
 },
 "nbformat": 4,
 "nbformat_minor": 2
}